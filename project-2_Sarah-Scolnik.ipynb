{
 "cells": [
  {
   "cell_type": "markdown",
   "metadata": {},
   "source": [
    "# Project 2 - Ames Housing Data and Kaggle Challenge"
   ]
  },
  {
   "cell_type": "code",
   "execution_count": 1,
   "metadata": {},
   "outputs": [],
   "source": [
    "# note to self: see ***to do*** items in notes for future upgrades"
   ]
  },
  {
   "cell_type": "code",
   "execution_count": 2,
   "metadata": {},
   "outputs": [],
   "source": [
    "import numpy as np\n",
    "import pandas as pd\n",
    "import matplotlib.pyplot as plt\n",
    "import seaborn as sns\n",
    "import sklearn.linear_model as linear_model\n",
    "from sklearn.linear_model import LinearRegression\n",
    "from sklearn.model_selection import train_test_split, cross_val_score\n",
    "from sklearn.metrics import r2_score\n",
    "from sklearn.preprocessing import StandardScaler"
   ]
  },
  {
   "cell_type": "markdown",
   "metadata": {},
   "source": [
    "# EDA and Data Cleaning"
   ]
  },
  {
   "cell_type": "markdown",
   "metadata": {},
   "source": [
    "## 1. Import the data sets"
   ]
  },
  {
   "cell_type": "code",
   "execution_count": 3,
   "metadata": {},
   "outputs": [],
   "source": [
    "# import training dataset to dataframe\n",
    "train = pd.read_csv('./datasets/train.csv')"
   ]
  },
  {
   "cell_type": "code",
   "execution_count": 4,
   "metadata": {
    "scrolled": false
   },
   "outputs": [],
   "source": [
    "# import test dataset to dataframe\n",
    "test = pd.read_csv('./datasets/test.csv')"
   ]
  },
  {
   "cell_type": "code",
   "execution_count": 5,
   "metadata": {},
   "outputs": [
    {
     "name": "stdout",
     "output_type": "stream",
     "text": [
      "(2051, 81)\n",
      "(879, 80)\n"
     ]
    }
   ],
   "source": [
    "print(train.shape)\n",
    "print(test.shape)\n",
    "# train has 1 more column than test because it has the target variable 'SalePrice'"
   ]
  },
  {
   "cell_type": "markdown",
   "metadata": {},
   "source": [
    "## 1. Columns and data types"
   ]
  },
  {
   "cell_type": "code",
   "execution_count": 6,
   "metadata": {},
   "outputs": [
    {
     "data": {
      "text/plain": [
       "True"
      ]
     },
     "execution_count": 6,
     "metadata": {},
     "output_type": "execute_result"
    }
   ],
   "source": [
    "# Check that test columns are the same as train columns\n",
    "\n",
    "list(test.columns) == list(train.drop('SalePrice', axis=1).columns)"
   ]
  },
  {
   "cell_type": "code",
   "execution_count": 7,
   "metadata": {
    "scrolled": true
   },
   "outputs": [
    {
     "name": "stdout",
     "output_type": "stream",
     "text": [
      "<class 'pandas.core.frame.DataFrame'>\n",
      "RangeIndex: 2051 entries, 0 to 2050\n",
      "Data columns (total 81 columns):\n",
      "Id                 2051 non-null int64\n",
      "PID                2051 non-null int64\n",
      "MS SubClass        2051 non-null int64\n",
      "MS Zoning          2051 non-null object\n",
      "Lot Frontage       1721 non-null float64\n",
      "Lot Area           2051 non-null int64\n",
      "Street             2051 non-null object\n",
      "Alley              140 non-null object\n",
      "Lot Shape          2051 non-null object\n",
      "Land Contour       2051 non-null object\n",
      "Utilities          2051 non-null object\n",
      "Lot Config         2051 non-null object\n",
      "Land Slope         2051 non-null object\n",
      "Neighborhood       2051 non-null object\n",
      "Condition 1        2051 non-null object\n",
      "Condition 2        2051 non-null object\n",
      "Bldg Type          2051 non-null object\n",
      "House Style        2051 non-null object\n",
      "Overall Qual       2051 non-null int64\n",
      "Overall Cond       2051 non-null int64\n",
      "Year Built         2051 non-null int64\n",
      "Year Remod/Add     2051 non-null int64\n",
      "Roof Style         2051 non-null object\n",
      "Roof Matl          2051 non-null object\n",
      "Exterior 1st       2051 non-null object\n",
      "Exterior 2nd       2051 non-null object\n",
      "Mas Vnr Type       2029 non-null object\n",
      "Mas Vnr Area       2029 non-null float64\n",
      "Exter Qual         2051 non-null object\n",
      "Exter Cond         2051 non-null object\n",
      "Foundation         2051 non-null object\n",
      "Bsmt Qual          1996 non-null object\n",
      "Bsmt Cond          1996 non-null object\n",
      "Bsmt Exposure      1993 non-null object\n",
      "BsmtFin Type 1     1996 non-null object\n",
      "BsmtFin SF 1       2050 non-null float64\n",
      "BsmtFin Type 2     1995 non-null object\n",
      "BsmtFin SF 2       2050 non-null float64\n",
      "Bsmt Unf SF        2050 non-null float64\n",
      "Total Bsmt SF      2050 non-null float64\n",
      "Heating            2051 non-null object\n",
      "Heating QC         2051 non-null object\n",
      "Central Air        2051 non-null object\n",
      "Electrical         2051 non-null object\n",
      "1st Flr SF         2051 non-null int64\n",
      "2nd Flr SF         2051 non-null int64\n",
      "Low Qual Fin SF    2051 non-null int64\n",
      "Gr Liv Area        2051 non-null int64\n",
      "Bsmt Full Bath     2049 non-null float64\n",
      "Bsmt Half Bath     2049 non-null float64\n",
      "Full Bath          2051 non-null int64\n",
      "Half Bath          2051 non-null int64\n",
      "Bedroom AbvGr      2051 non-null int64\n",
      "Kitchen AbvGr      2051 non-null int64\n",
      "Kitchen Qual       2051 non-null object\n",
      "TotRms AbvGrd      2051 non-null int64\n",
      "Functional         2051 non-null object\n",
      "Fireplaces         2051 non-null int64\n",
      "Fireplace Qu       1051 non-null object\n",
      "Garage Type        1938 non-null object\n",
      "Garage Yr Blt      1937 non-null float64\n",
      "Garage Finish      1937 non-null object\n",
      "Garage Cars        2050 non-null float64\n",
      "Garage Area        2050 non-null float64\n",
      "Garage Qual        1937 non-null object\n",
      "Garage Cond        1937 non-null object\n",
      "Paved Drive        2051 non-null object\n",
      "Wood Deck SF       2051 non-null int64\n",
      "Open Porch SF      2051 non-null int64\n",
      "Enclosed Porch     2051 non-null int64\n",
      "3Ssn Porch         2051 non-null int64\n",
      "Screen Porch       2051 non-null int64\n",
      "Pool Area          2051 non-null int64\n",
      "Pool QC            9 non-null object\n",
      "Fence              400 non-null object\n",
      "Misc Feature       65 non-null object\n",
      "Misc Val           2051 non-null int64\n",
      "Mo Sold            2051 non-null int64\n",
      "Yr Sold            2051 non-null int64\n",
      "Sale Type          2051 non-null object\n",
      "SalePrice          2051 non-null int64\n",
      "dtypes: float64(11), int64(28), object(42)\n",
      "memory usage: 1.3+ MB\n"
     ]
    }
   ],
   "source": [
    "# check columns and data types\n",
    "train.info()"
   ]
  },
  {
   "cell_type": "code",
   "execution_count": 8,
   "metadata": {},
   "outputs": [],
   "source": [
    "# 'Id', 'PID', 'SalePrice' are not features\n",
    "# 'Id' and 'PID' are property ID numbers that should not affect sale price\n",
    "# 'SalePrice' is the target, which will be removed from X before the train test split\n",
    "\n",
    "drop_cols = ['Id', 'PID']\n",
    "ames_train = train.drop(drop_cols, axis=1)\n",
    "kaggle_test = test.drop(drop_cols, axis=1)"
   ]
  },
  {
   "cell_type": "code",
   "execution_count": 9,
   "metadata": {
    "scrolled": true
   },
   "outputs": [],
   "source": [
    "# per data documentation here http://jse.amstat.org/v19n3/decock/DataDocumentation.txt\n",
    "# the following columns have numeric values but are years:\n",
    "# Year Built (Discrete): Original construction date\n",
    "# Year Remod/Add (Discrete): Remodel date (same as construction date if no remodeling or additions)\n",
    "# Garage Yr Blt (Discrete): Year garage was built\n",
    "\n",
    "# ***to do*** convert years to a more useful numeric value, age in years at time of sale\n",
    "# for example:\n",
    "# ames_train['Built_age'] = ames_train['Yr Sold'] - ames_train['Year Built']"
   ]
  },
  {
   "cell_type": "code",
   "execution_count": 10,
   "metadata": {},
   "outputs": [],
   "source": [
    "# create numerical & categorical features lists\n",
    "# ref Riley's video for ._get_numeric_data() \n",
    "# https://www.youtube.com/watch?v=y6AQcj2vOOw&list=PLYGvOQTnahYKInRCq3_Q4viVR56dHX2x5\n",
    "\n",
    "# per data documentation here http://jse.amstat.org/v19n3/decock/DataDocumentation.txt\n",
    "# the following columns have numeric values but data is categorical:\n",
    "# MS SubClass (Nominal): Identifies the type of dwelling involved in the sale.\n",
    "# Mo Sold (Discrete): Month Sold (MM)\n",
    "# Yr Sold (Discrete): Year Sold (YYYY)\n",
    "# (Yr Sold unique values: 2006, 2007, 2008, 2009, 2010)\n",
    "\n",
    "features_num = list(ames_train._get_numeric_data().drop(['MS SubClass', 'Mo Sold', 'Yr Sold', 'SalePrice'], axis=1))\n",
    "features_cat = [x for x in ames_train.columns if (x not in features_num) and (x != 'SalePrice')]"
   ]
  },
  {
   "cell_type": "code",
   "execution_count": 11,
   "metadata": {},
   "outputs": [],
   "source": [
    "# convert numeric categorical columns into strings (columns to be dummied later)\n",
    "\n",
    "ames_train['MS SubClass'] = ames_train['MS SubClass'].astype(str)\n",
    "ames_train['Mo Sold'] = ames_train['Mo Sold'].astype(str)\n",
    "ames_train['Yr Sold'] = ames_train['Yr Sold'].astype(str)\n",
    "\n",
    "kaggle_test['MS SubClass'] = kaggle_test['MS SubClass'].astype(str)\n",
    "kaggle_test['Mo Sold'] = kaggle_test['Mo Sold'].astype(str)\n",
    "kaggle_test['Yr Sold'] = kaggle_test['Yr Sold'].astype(str)"
   ]
  },
  {
   "cell_type": "markdown",
   "metadata": {},
   "source": [
    "## 2. Missing values"
   ]
  },
  {
   "cell_type": "code",
   "execution_count": 12,
   "metadata": {
    "scrolled": true
   },
   "outputs": [
    {
     "data": {
      "text/plain": [
       "Pool QC            0.995612\n",
       "Misc Feature       0.968308\n",
       "Alley              0.931741\n",
       "Fence              0.804973\n",
       "Fireplace Qu       0.487567\n",
       "Lot Frontage       0.160897\n",
       "Garage Qual        0.055583\n",
       "Garage Cond        0.055583\n",
       "Garage Yr Blt      0.055583\n",
       "Garage Finish      0.055583\n",
       "Garage Type        0.055095\n",
       "Bsmt Exposure      0.028279\n",
       "BsmtFin Type 2     0.027304\n",
       "Bsmt Qual          0.026816\n",
       "BsmtFin Type 1     0.026816\n",
       "Bsmt Cond          0.026816\n",
       "Mas Vnr Type       0.010726\n",
       "Mas Vnr Area       0.010726\n",
       "Bsmt Half Bath     0.000975\n",
       "Bsmt Full Bath     0.000975\n",
       "Bsmt Unf SF        0.000488\n",
       "Total Bsmt SF      0.000488\n",
       "BsmtFin SF 1       0.000488\n",
       "BsmtFin SF 2       0.000488\n",
       "Garage Cars        0.000488\n",
       "Garage Area        0.000488\n",
       "Exterior 2nd       0.000000\n",
       "Exterior 1st       0.000000\n",
       "Roof Matl          0.000000\n",
       "Roof Style         0.000000\n",
       "                     ...   \n",
       "Condition 2        0.000000\n",
       "Heating QC         0.000000\n",
       "Foundation         0.000000\n",
       "Heating            0.000000\n",
       "Yr Sold            0.000000\n",
       "Mo Sold            0.000000\n",
       "Misc Val           0.000000\n",
       "Pool Area          0.000000\n",
       "Screen Porch       0.000000\n",
       "3Ssn Porch         0.000000\n",
       "Enclosed Porch     0.000000\n",
       "Open Porch SF      0.000000\n",
       "Wood Deck SF       0.000000\n",
       "Paved Drive        0.000000\n",
       "Fireplaces         0.000000\n",
       "Functional         0.000000\n",
       "TotRms AbvGrd      0.000000\n",
       "Kitchen Qual       0.000000\n",
       "Kitchen AbvGr      0.000000\n",
       "Bedroom AbvGr      0.000000\n",
       "Half Bath          0.000000\n",
       "Full Bath          0.000000\n",
       "Gr Liv Area        0.000000\n",
       "Low Qual Fin SF    0.000000\n",
       "2nd Flr SF         0.000000\n",
       "1st Flr SF         0.000000\n",
       "Electrical         0.000000\n",
       "Central Air        0.000000\n",
       "Sale Type          0.000000\n",
       "MS SubClass        0.000000\n",
       "Length: 79, dtype: float64"
      ]
     },
     "execution_count": 12,
     "metadata": {},
     "output_type": "execute_result"
    }
   ],
   "source": [
    "# check percentage of null values by column\n",
    "\n",
    "ames_train.isnull().mean().sort_values(ascending=False)"
   ]
  },
  {
   "cell_type": "code",
   "execution_count": 13,
   "metadata": {},
   "outputs": [],
   "source": [
    "# Drop columns with high percentage of null values\n",
    "\n",
    "drop_cols = ['Pool QC', 'Misc Feature', 'Alley', 'Fence', 'Fireplace Qu']\n",
    "ames_train = ames_train.drop(drop_cols, axis=1)\n",
    "kaggle_test = kaggle_test.drop(drop_cols, axis=1)\n",
    "for x in drop_cols:\n",
    "    if x in features_num:\n",
    "        features_num.remove(x)\n",
    "    elif x in features_cat:\n",
    "        features_cat.remove(x)"
   ]
  },
  {
   "cell_type": "code",
   "execution_count": 14,
   "metadata": {},
   "outputs": [],
   "source": [
    "# Set all numeric null values to 0 and string null values to 'null' \n",
    "# (this is not the best method of imputing missing values)\n",
    "# first version of project tried dropping all rows/columns with missing values, which is worse\n",
    "# ***to do*** for future versions: try filling missing values with median/most common value for that column\n",
    "# see code from https://stackoverflow.com/questions/32617811/imputation-of-missing-values-for-categories-in-pandas\n",
    "\n",
    "ames_train[features_num] = ames_train[features_num].fillna(0)\n",
    "kaggle_test[features_num] = ames_train[features_num].fillna(0)\n",
    "ames_train[features_cat] = ames_train[features_cat].fillna('null')\n",
    "kaggle_test[features_cat] = ames_train[features_cat].fillna('null')"
   ]
  },
  {
   "cell_type": "markdown",
   "metadata": {},
   "source": [
    "## 2. Feature selection and feature engineering"
   ]
  },
  {
   "cell_type": "code",
   "execution_count": 15,
   "metadata": {
    "scrolled": true
   },
   "outputs": [
    {
     "data": {
      "text/html": [
       "<div>\n",
       "<style scoped>\n",
       "    .dataframe tbody tr th:only-of-type {\n",
       "        vertical-align: middle;\n",
       "    }\n",
       "\n",
       "    .dataframe tbody tr th {\n",
       "        vertical-align: top;\n",
       "    }\n",
       "\n",
       "    .dataframe thead th {\n",
       "        text-align: right;\n",
       "    }\n",
       "</style>\n",
       "<table border=\"1\" class=\"dataframe\">\n",
       "  <thead>\n",
       "    <tr style=\"text-align: right;\">\n",
       "      <th></th>\n",
       "      <th>SalePrice</th>\n",
       "    </tr>\n",
       "  </thead>\n",
       "  <tbody>\n",
       "    <tr>\n",
       "      <th>SalePrice</th>\n",
       "      <td>1.000000</td>\n",
       "    </tr>\n",
       "    <tr>\n",
       "      <th>Overall Qual</th>\n",
       "      <td>0.800207</td>\n",
       "    </tr>\n",
       "    <tr>\n",
       "      <th>Gr Liv Area</th>\n",
       "      <td>0.697038</td>\n",
       "    </tr>\n",
       "    <tr>\n",
       "      <th>Garage Area</th>\n",
       "      <td>0.650270</td>\n",
       "    </tr>\n",
       "    <tr>\n",
       "      <th>Garage Cars</th>\n",
       "      <td>0.648220</td>\n",
       "    </tr>\n",
       "    <tr>\n",
       "      <th>Total Bsmt SF</th>\n",
       "      <td>0.628925</td>\n",
       "    </tr>\n",
       "    <tr>\n",
       "      <th>1st Flr SF</th>\n",
       "      <td>0.618486</td>\n",
       "    </tr>\n",
       "    <tr>\n",
       "      <th>Year Built</th>\n",
       "      <td>0.571849</td>\n",
       "    </tr>\n",
       "    <tr>\n",
       "      <th>Year Remod/Add</th>\n",
       "      <td>0.550370</td>\n",
       "    </tr>\n",
       "    <tr>\n",
       "      <th>Full Bath</th>\n",
       "      <td>0.537969</td>\n",
       "    </tr>\n",
       "    <tr>\n",
       "      <th>Garage Yr Blt</th>\n",
       "      <td>0.533922</td>\n",
       "    </tr>\n",
       "    <tr>\n",
       "      <th>Mas Vnr Area</th>\n",
       "      <td>0.512230</td>\n",
       "    </tr>\n",
       "    <tr>\n",
       "      <th>TotRms AbvGrd</th>\n",
       "      <td>0.504014</td>\n",
       "    </tr>\n",
       "    <tr>\n",
       "      <th>Fireplaces</th>\n",
       "      <td>0.471093</td>\n",
       "    </tr>\n",
       "    <tr>\n",
       "      <th>BsmtFin SF 1</th>\n",
       "      <td>0.423519</td>\n",
       "    </tr>\n",
       "    <tr>\n",
       "      <th>Lot Frontage</th>\n",
       "      <td>0.341842</td>\n",
       "    </tr>\n",
       "    <tr>\n",
       "      <th>Open Porch SF</th>\n",
       "      <td>0.333476</td>\n",
       "    </tr>\n",
       "    <tr>\n",
       "      <th>Wood Deck SF</th>\n",
       "      <td>0.326490</td>\n",
       "    </tr>\n",
       "    <tr>\n",
       "      <th>Lot Area</th>\n",
       "      <td>0.296566</td>\n",
       "    </tr>\n",
       "    <tr>\n",
       "      <th>Bsmt Full Bath</th>\n",
       "      <td>0.283662</td>\n",
       "    </tr>\n",
       "    <tr>\n",
       "      <th>Half Bath</th>\n",
       "      <td>0.283001</td>\n",
       "    </tr>\n",
       "    <tr>\n",
       "      <th>PID</th>\n",
       "      <td>0.255052</td>\n",
       "    </tr>\n",
       "    <tr>\n",
       "      <th>2nd Flr SF</th>\n",
       "      <td>0.248452</td>\n",
       "    </tr>\n",
       "    <tr>\n",
       "      <th>Bsmt Unf SF</th>\n",
       "      <td>0.190210</td>\n",
       "    </tr>\n",
       "    <tr>\n",
       "      <th>Bedroom AbvGr</th>\n",
       "      <td>0.137067</td>\n",
       "    </tr>\n",
       "    <tr>\n",
       "      <th>Enclosed Porch</th>\n",
       "      <td>0.135656</td>\n",
       "    </tr>\n",
       "    <tr>\n",
       "      <th>Screen Porch</th>\n",
       "      <td>0.134581</td>\n",
       "    </tr>\n",
       "    <tr>\n",
       "      <th>Kitchen AbvGr</th>\n",
       "      <td>0.125444</td>\n",
       "    </tr>\n",
       "    <tr>\n",
       "      <th>Overall Cond</th>\n",
       "      <td>0.097019</td>\n",
       "    </tr>\n",
       "    <tr>\n",
       "      <th>MS SubClass</th>\n",
       "      <td>0.087335</td>\n",
       "    </tr>\n",
       "    <tr>\n",
       "      <th>Id</th>\n",
       "      <td>0.051398</td>\n",
       "    </tr>\n",
       "    <tr>\n",
       "      <th>3Ssn Porch</th>\n",
       "      <td>0.048732</td>\n",
       "    </tr>\n",
       "    <tr>\n",
       "      <th>Bsmt Half Bath</th>\n",
       "      <td>0.045328</td>\n",
       "    </tr>\n",
       "    <tr>\n",
       "      <th>Low Qual Fin SF</th>\n",
       "      <td>0.041594</td>\n",
       "    </tr>\n",
       "    <tr>\n",
       "      <th>Mo Sold</th>\n",
       "      <td>0.032735</td>\n",
       "    </tr>\n",
       "    <tr>\n",
       "      <th>Pool Area</th>\n",
       "      <td>0.023106</td>\n",
       "    </tr>\n",
       "    <tr>\n",
       "      <th>BsmtFin SF 2</th>\n",
       "      <td>0.016255</td>\n",
       "    </tr>\n",
       "    <tr>\n",
       "      <th>Yr Sold</th>\n",
       "      <td>0.015203</td>\n",
       "    </tr>\n",
       "    <tr>\n",
       "      <th>Misc Val</th>\n",
       "      <td>0.007375</td>\n",
       "    </tr>\n",
       "  </tbody>\n",
       "</table>\n",
       "</div>"
      ],
      "text/plain": [
       "                 SalePrice\n",
       "SalePrice         1.000000\n",
       "Overall Qual      0.800207\n",
       "Gr Liv Area       0.697038\n",
       "Garage Area       0.650270\n",
       "Garage Cars       0.648220\n",
       "Total Bsmt SF     0.628925\n",
       "1st Flr SF        0.618486\n",
       "Year Built        0.571849\n",
       "Year Remod/Add    0.550370\n",
       "Full Bath         0.537969\n",
       "Garage Yr Blt     0.533922\n",
       "Mas Vnr Area      0.512230\n",
       "TotRms AbvGrd     0.504014\n",
       "Fireplaces        0.471093\n",
       "BsmtFin SF 1      0.423519\n",
       "Lot Frontage      0.341842\n",
       "Open Porch SF     0.333476\n",
       "Wood Deck SF      0.326490\n",
       "Lot Area          0.296566\n",
       "Bsmt Full Bath    0.283662\n",
       "Half Bath         0.283001\n",
       "PID               0.255052\n",
       "2nd Flr SF        0.248452\n",
       "Bsmt Unf SF       0.190210\n",
       "Bedroom AbvGr     0.137067\n",
       "Enclosed Porch    0.135656\n",
       "Screen Porch      0.134581\n",
       "Kitchen AbvGr     0.125444\n",
       "Overall Cond      0.097019\n",
       "MS SubClass       0.087335\n",
       "Id                0.051398\n",
       "3Ssn Porch        0.048732\n",
       "Bsmt Half Bath    0.045328\n",
       "Low Qual Fin SF   0.041594\n",
       "Mo Sold           0.032735\n",
       "Pool Area         0.023106\n",
       "BsmtFin SF 2      0.016255\n",
       "Yr Sold           0.015203\n",
       "Misc Val          0.007375"
      ]
     },
     "execution_count": 15,
     "metadata": {},
     "output_type": "execute_result"
    }
   ],
   "source": [
    "# Correlation\n",
    "# find numeric variables with highest correlation (positive or negative) with SalePrice\n",
    "# note: using all columns shows correlation with other columns that should not be used as variables\n",
    "# PID\t0.255052\n",
    "# Id\t0.051398\n",
    "\n",
    "np.abs(train.corr()[['SalePrice']]).sort_values('SalePrice', ascending=False)"
   ]
  },
  {
   "cell_type": "code",
   "execution_count": 16,
   "metadata": {},
   "outputs": [
    {
     "data": {
      "text/plain": [
       "<matplotlib.axes._subplots.AxesSubplot at 0x115236080>"
      ]
     },
     "execution_count": 16,
     "metadata": {},
     "output_type": "execute_result"
    },
    {
     "data": {
      "image/png": "[encoded data removed]",
      "text/plain": [
       "<Figure size 432x288 with 2 Axes>"
      ]
     },
     "metadata": {
      "needs_background": "light"
     },
     "output_type": "display_data"
    }
   ],
   "source": [
    "# create heatmap of top correlations\n",
    "top_corr = np.abs(ames_train.corr()[['SalePrice']]).sort_values('SalePrice', ascending=False)\n",
    "sns.heatmap(top_corr.head(10), cmap='Blues')"
   ]
  },
  {
   "cell_type": "code",
   "execution_count": 17,
   "metadata": {},
   "outputs": [],
   "source": [
    "# Interaction Terms\n",
    "\n",
    "# create interaction term for total SF\n",
    "# TotalSF = 'Total Bsmt SF' + '1st Flr SF' + '2nd Flr SF'\n",
    "# note: data also includes Gr Liv Area (Continuous): Above grade (ground) living area square feet\n",
    "\n",
    "def add_totalSF(df):\n",
    "    df['TotalSF'] = df['Total Bsmt SF'] + df['1st Flr SF'] + df['2nd Flr SF']\n",
    "\n",
    "add_totalSF(ames_train)\n",
    "add_totalSF(kaggle_test)\n",
    "features_num.append('TotalSF')\n",
    "\n",
    "# drop from features to avoid collinearity with TotalSF\n",
    "features_num = [x for x in features_num if x not in ['Total Bsmt SF', '1st Flr SF', '2nd Flr SF']]"
   ]
  },
  {
   "cell_type": "code",
   "execution_count": 18,
   "metadata": {
    "scrolled": true
   },
   "outputs": [
    {
     "data": {
      "text/plain": [
       "<matplotlib.axes._subplots.AxesSubplot at 0x1a18fd7f28>"
      ]
     },
     "execution_count": 18,
     "metadata": {},
     "output_type": "execute_result"
    },
    {
     "data": {
      "image/png": "[encoded data removed]",
      "text/plain": [
       "<Figure size 432x288 with 2 Axes>"
      ]
     },
     "metadata": {
      "needs_background": "light"
     },
     "output_type": "display_data"
    }
   ],
   "source": [
    "# check if TotalSF has a high correlation w/SalePrice\n",
    "top_corr = np.abs(ames_train.corr()[['SalePrice']]).sort_values('SalePrice', ascending=False)\n",
    "sns.heatmap(top_corr.head(10), cmap='Blues')"
   ]
  },
  {
   "cell_type": "code",
   "execution_count": 19,
   "metadata": {},
   "outputs": [],
   "source": [
    "# ***to do*** reassign values with low counts to 'OTHER' in each features_cat column?"
   ]
  },
  {
   "cell_type": "code",
   "execution_count": 20,
   "metadata": {},
   "outputs": [],
   "source": [
    "# ***to do*** look at neighborhoods specifically? create map?"
   ]
  },
  {
   "cell_type": "code",
   "execution_count": 21,
   "metadata": {},
   "outputs": [],
   "source": [
    "# Dummies\n",
    "# (convert each categorical column into a one-hot encoded matrix)"
   ]
  },
  {
   "cell_type": "code",
   "execution_count": 22,
   "metadata": {
    "scrolled": false
   },
   "outputs": [
    {
     "data": {
      "text/plain": [
       "(2051, 75)"
      ]
     },
     "execution_count": 22,
     "metadata": {},
     "output_type": "execute_result"
    }
   ],
   "source": [
    "ames_train.shape"
   ]
  },
  {
   "cell_type": "code",
   "execution_count": 23,
   "metadata": {},
   "outputs": [],
   "source": [
    "# get_dummies\n",
    "\n",
    "ames_train = pd.get_dummies(ames_train, columns=features_cat, drop_first=True) "
   ]
  },
  {
   "cell_type": "code",
   "execution_count": 24,
   "metadata": {
    "scrolled": false
   },
   "outputs": [
    {
     "data": {
      "text/plain": [
       "(2051, 271)"
      ]
     },
     "execution_count": 24,
     "metadata": {},
     "output_type": "execute_result"
    }
   ],
   "source": [
    "ames_train.shape"
   ]
  },
  {
   "cell_type": "code",
   "execution_count": 25,
   "metadata": {},
   "outputs": [],
   "source": [
    "# create list of features including new dummies\n",
    "\n",
    "features_model = [x for x in ames_train.columns if x != 'SalePrice']"
   ]
  },
  {
   "cell_type": "code",
   "execution_count": 26,
   "metadata": {},
   "outputs": [],
   "source": [
    "# get dummies for kaggle_test & fix missing columns"
   ]
  },
  {
   "cell_type": "code",
   "execution_count": 27,
   "metadata": {},
   "outputs": [],
   "source": [
    "kaggle_test = pd.get_dummies(kaggle_test, columns=features_cat, drop_first=True) "
   ]
  },
  {
   "cell_type": "code",
   "execution_count": 28,
   "metadata": {},
   "outputs": [
    {
     "data": {
      "text/plain": [
       "(879, 260)"
      ]
     },
     "execution_count": 28,
     "metadata": {},
     "output_type": "execute_result"
    }
   ],
   "source": [
    "kaggle_test.shape"
   ]
  },
  {
   "cell_type": "code",
   "execution_count": 29,
   "metadata": {
    "scrolled": true
   },
   "outputs": [
    {
     "data": {
      "text/plain": [
       "(2051, 270)"
      ]
     },
     "execution_count": 29,
     "metadata": {},
     "output_type": "execute_result"
    }
   ],
   "source": [
    "ames_train[features_model].shape"
   ]
  },
  {
   "cell_type": "code",
   "execution_count": 30,
   "metadata": {},
   "outputs": [],
   "source": [
    "# from https://stackoverflow.com/questions/41335718/keep-same-dummy-variable-in-training-and-testing-data\n",
    "# Find missing columns in test\n",
    "missing_cols = set(ames_train.columns) - set(kaggle_test.columns)\n",
    "# Add a missing column in test with default value equal to 0\n",
    "for c in missing_cols:\n",
    "    kaggle_test[c] = 0\n",
    "# Ensure the order of columns in test is the same as in train\n",
    "kaggle_test = kaggle_test[features_model]"
   ]
  },
  {
   "cell_type": "code",
   "execution_count": 31,
   "metadata": {
    "scrolled": true
   },
   "outputs": [
    {
     "data": {
      "text/plain": [
       "(879, 270)"
      ]
     },
     "execution_count": 31,
     "metadata": {},
     "output_type": "execute_result"
    }
   ],
   "source": [
    "kaggle_test.shape"
   ]
  },
  {
   "cell_type": "code",
   "execution_count": 32,
   "metadata": {},
   "outputs": [],
   "source": [
    "# ***to do*** try taking the log of the target variable before fitting the model, \n",
    "# as was pointed out in other presentations that the sale price distribution is skewed. \n",
    "# (The final predictions would then have to be exponentiated to get the correct values.)    "
   ]
  },
  {
   "cell_type": "markdown",
   "metadata": {},
   "source": [
    "# Model"
   ]
  },
  {
   "cell_type": "markdown",
   "metadata": {},
   "source": [
    "## 3. Train test split"
   ]
  },
  {
   "cell_type": "code",
   "execution_count": 33,
   "metadata": {},
   "outputs": [],
   "source": [
    "# train test split\n",
    "\n",
    "X = ames_train[features_model]\n",
    "y = ames_train['SalePrice']\n",
    "X_train, X_test, y_train, y_test = train_test_split(X, y, \n",
    "                                                    random_state=42,\n",
    "                                                    test_size=0.05)"
   ]
  },
  {
   "cell_type": "code",
   "execution_count": 34,
   "metadata": {
    "scrolled": true
   },
   "outputs": [
    {
     "name": "stdout",
     "output_type": "stream",
     "text": [
      "[0.91036681 0.81846246 0.7099057 ]\n",
      "0.8129116547653941\n"
     ]
    }
   ],
   "source": [
    "# cross-validation of train test split\n",
    "\n",
    "lr = linear_model.LinearRegression()\n",
    "print(cross_val_score(lr, X_train, y_train, cv=3))\n",
    "print(cross_val_score(lr, X_train, y_train, cv=3).mean())"
   ]
  },
  {
   "cell_type": "markdown",
   "metadata": {},
   "source": [
    "## 4. Scale data "
   ]
  },
  {
   "cell_type": "code",
   "execution_count": 35,
   "metadata": {},
   "outputs": [],
   "source": [
    "# Standardize X_train and X_test using Standard Scaler\n",
    "\n",
    "# Instantiate Standard Scaler\n",
    "ss = StandardScaler()\n",
    "\n",
    "# Fit Standard Scaler to X_train and transform X_train\n",
    "X_train_sc = ss.fit_transform(X_train)\n",
    "\n",
    "# Transform X_test using Standard Scaler\n",
    "X_test_sc = ss.transform(X_test)\n",
    "\n",
    "# Standardize kaggle_test using Standard Scaler\n",
    "ss = StandardScaler()\n",
    "kaggle_test_sc = ss.fit_transform(kaggle_test)"
   ]
  },
  {
   "cell_type": "code",
   "execution_count": 36,
   "metadata": {},
   "outputs": [],
   "source": [
    "# ***to do*** try scaling data before modeling with linear_model.LinearRegression() also"
   ]
  },
  {
   "cell_type": "markdown",
   "metadata": {},
   "source": [
    "## 5. Lasso"
   ]
  },
  {
   "cell_type": "code",
   "execution_count": 37,
   "metadata": {},
   "outputs": [],
   "source": [
    "# create linear model using Lasso\n",
    "linear = linear_model.LassoCV()\n",
    "model = linear.fit(X_train_sc, y_train)"
   ]
  },
  {
   "cell_type": "code",
   "execution_count": 38,
   "metadata": {
    "scrolled": true
   },
   "outputs": [
    {
     "name": "stdout",
     "output_type": "stream",
     "text": [
      "0.9097482576807232\n",
      "0.9008261948983242\n"
     ]
    }
   ],
   "source": [
    "# check score of X_train vs X_test for overfit\n",
    "print(model.score(X_train_sc, y_train))\n",
    "print(model.score(X_test_sc, y_test))"
   ]
  },
  {
   "cell_type": "code",
   "execution_count": 39,
   "metadata": {
    "scrolled": true
   },
   "outputs": [
    {
     "data": {
      "text/html": [
       "<div>\n",
       "<style scoped>\n",
       "    .dataframe tbody tr th:only-of-type {\n",
       "        vertical-align: middle;\n",
       "    }\n",
       "\n",
       "    .dataframe tbody tr th {\n",
       "        vertical-align: top;\n",
       "    }\n",
       "\n",
       "    .dataframe thead th {\n",
       "        text-align: right;\n",
       "    }\n",
       "</style>\n",
       "<table border=\"1\" class=\"dataframe\">\n",
       "  <thead>\n",
       "    <tr style=\"text-align: right;\">\n",
       "      <th></th>\n",
       "      <th>feature</th>\n",
       "      <th>coef</th>\n",
       "      <th>abs_coef</th>\n",
       "    </tr>\n",
       "  </thead>\n",
       "  <tbody>\n",
       "    <tr>\n",
       "      <th>2</th>\n",
       "      <td>Overall Qual</td>\n",
       "      <td>14286.053537</td>\n",
       "      <td>14286.053537</td>\n",
       "    </tr>\n",
       "    <tr>\n",
       "      <th>14</th>\n",
       "      <td>Gr Liv Area</td>\n",
       "      <td>12677.932176</td>\n",
       "      <td>12677.932176</td>\n",
       "    </tr>\n",
       "    <tr>\n",
       "      <th>218</th>\n",
       "      <td>Kitchen Qual_TA</td>\n",
       "      <td>-10459.193130</td>\n",
       "      <td>10459.193130</td>\n",
       "    </tr>\n",
       "    <tr>\n",
       "      <th>88</th>\n",
       "      <td>Neighborhood_NridgHt</td>\n",
       "      <td>9624.674083</td>\n",
       "      <td>9624.674083</td>\n",
       "    </tr>\n",
       "    <tr>\n",
       "      <th>217</th>\n",
       "      <td>Kitchen Qual_Gd</td>\n",
       "      <td>-9482.967444</td>\n",
       "      <td>9482.967444</td>\n",
       "    </tr>\n",
       "    <tr>\n",
       "      <th>33</th>\n",
       "      <td>TotalSF</td>\n",
       "      <td>9463.121208</td>\n",
       "      <td>9463.121208</td>\n",
       "    </tr>\n",
       "    <tr>\n",
       "      <th>167</th>\n",
       "      <td>Exter Qual_TA</td>\n",
       "      <td>-6691.364151</td>\n",
       "      <td>6691.364151</td>\n",
       "    </tr>\n",
       "    <tr>\n",
       "      <th>4</th>\n",
       "      <td>Year Built</td>\n",
       "      <td>6353.967942</td>\n",
       "      <td>6353.967942</td>\n",
       "    </tr>\n",
       "    <tr>\n",
       "      <th>94</th>\n",
       "      <td>Neighborhood_StoneBr</td>\n",
       "      <td>6019.881927</td>\n",
       "      <td>6019.881927</td>\n",
       "    </tr>\n",
       "    <tr>\n",
       "      <th>128</th>\n",
       "      <td>Roof Matl_CompShg</td>\n",
       "      <td>5678.871166</td>\n",
       "      <td>5678.871166</td>\n",
       "    </tr>\n",
       "  </tbody>\n",
       "</table>\n",
       "</div>"
      ],
      "text/plain": [
       "                  feature          coef      abs_coef\n",
       "2            Overall Qual  14286.053537  14286.053537\n",
       "14            Gr Liv Area  12677.932176  12677.932176\n",
       "218       Kitchen Qual_TA -10459.193130  10459.193130\n",
       "88   Neighborhood_NridgHt   9624.674083   9624.674083\n",
       "217       Kitchen Qual_Gd  -9482.967444   9482.967444\n",
       "33                TotalSF   9463.121208   9463.121208\n",
       "167         Exter Qual_TA  -6691.364151   6691.364151\n",
       "4              Year Built   6353.967942   6353.967942\n",
       "94   Neighborhood_StoneBr   6019.881927   6019.881927\n",
       "128     Roof Matl_CompShg   5678.871166   5678.871166"
      ]
     },
     "execution_count": 39,
     "metadata": {},
     "output_type": "execute_result"
    }
   ],
   "source": [
    "# find features with highest coefficients from Lasso\n",
    "\n",
    "lasso_features = pd.DataFrame(X_train.columns, columns=['feature'])\n",
    "lasso_features['coef'] = model.coef_\n",
    "lasso_features['abs_coef'] = np.abs(model.coef_)\n",
    "lasso_features.sort_values(by='abs_coef', ascending=False).head(10)"
   ]
  },
  {
   "cell_type": "markdown",
   "metadata": {},
   "source": [
    "## 6. Predict target values"
   ]
  },
  {
   "cell_type": "code",
   "execution_count": 40,
   "metadata": {},
   "outputs": [
    {
     "data": {
      "text/plain": [
       "181329.39219712527"
      ]
     },
     "execution_count": 40,
     "metadata": {},
     "output_type": "execute_result"
    }
   ],
   "source": [
    "# prediction function\n",
    "\n",
    "y_pred = model.predict(kaggle_test_sc)\n",
    "y_pred.mean()"
   ]
  },
  {
   "cell_type": "code",
   "execution_count": 41,
   "metadata": {},
   "outputs": [
    {
     "data": {
      "text/plain": [
       "(879,)"
      ]
     },
     "execution_count": 41,
     "metadata": {},
     "output_type": "execute_result"
    }
   ],
   "source": [
    "y_pred.shape"
   ]
  },
  {
   "cell_type": "code",
   "execution_count": 42,
   "metadata": {},
   "outputs": [],
   "source": [
    "# create submission dataframe with predictions"
   ]
  },
  {
   "cell_type": "code",
   "execution_count": 43,
   "metadata": {
    "scrolled": true
   },
   "outputs": [],
   "source": [
    "submission = pd.DataFrame(y_pred, columns=['SalePrice'])\n",
    "submission['Id'] = test['Id']\n",
    "submission = submission[['Id', 'SalePrice']]"
   ]
  },
  {
   "cell_type": "code",
   "execution_count": 44,
   "metadata": {
    "scrolled": false
   },
   "outputs": [
    {
     "data": {
      "text/html": [
       "<div>\n",
       "<style scoped>\n",
       "    .dataframe tbody tr th:only-of-type {\n",
       "        vertical-align: middle;\n",
       "    }\n",
       "\n",
       "    .dataframe tbody tr th {\n",
       "        vertical-align: top;\n",
       "    }\n",
       "\n",
       "    .dataframe thead th {\n",
       "        text-align: right;\n",
       "    }\n",
       "</style>\n",
       "<table border=\"1\" class=\"dataframe\">\n",
       "  <thead>\n",
       "    <tr style=\"text-align: right;\">\n",
       "      <th></th>\n",
       "      <th>Id</th>\n",
       "      <th>SalePrice</th>\n",
       "    </tr>\n",
       "  </thead>\n",
       "  <tbody>\n",
       "    <tr>\n",
       "      <th>0</th>\n",
       "      <td>2658</td>\n",
       "      <td>180005.038398</td>\n",
       "    </tr>\n",
       "    <tr>\n",
       "      <th>1</th>\n",
       "      <td>2718</td>\n",
       "      <td>236348.871969</td>\n",
       "    </tr>\n",
       "    <tr>\n",
       "      <th>2</th>\n",
       "      <td>2414</td>\n",
       "      <td>140045.923431</td>\n",
       "    </tr>\n",
       "    <tr>\n",
       "      <th>3</th>\n",
       "      <td>1989</td>\n",
       "      <td>154069.882608</td>\n",
       "    </tr>\n",
       "    <tr>\n",
       "      <th>4</th>\n",
       "      <td>625</td>\n",
       "      <td>151552.429728</td>\n",
       "    </tr>\n",
       "  </tbody>\n",
       "</table>\n",
       "</div>"
      ],
      "text/plain": [
       "     Id      SalePrice\n",
       "0  2658  180005.038398\n",
       "1  2718  236348.871969\n",
       "2  2414  140045.923431\n",
       "3  1989  154069.882608\n",
       "4   625  151552.429728"
      ]
     },
     "execution_count": 44,
     "metadata": {},
     "output_type": "execute_result"
    }
   ],
   "source": [
    "submission.head()"
   ]
  },
  {
   "cell_type": "code",
   "execution_count": 45,
   "metadata": {
    "scrolled": true
   },
   "outputs": [
    {
     "data": {
      "text/plain": [
       "<matplotlib.axes._subplots.AxesSubplot at 0x114f614e0>"
      ]
     },
     "execution_count": 45,
     "metadata": {},
     "output_type": "execute_result"
    },
    {
     "data": {
      "image/png": "[encoded data removed]",
      "text/plain": [
       "<Figure size 432x288 with 1 Axes>"
      ]
     },
     "metadata": {
      "needs_background": "light"
     },
     "output_type": "display_data"
    }
   ],
   "source": [
    "submission['SalePrice'].hist()"
   ]
  },
  {
   "cell_type": "code",
   "execution_count": 46,
   "metadata": {},
   "outputs": [],
   "source": [
    "# write predictions to csv\n",
    "submission.to_csv('submission_04', index=False)"
   ]
  },
  {
   "cell_type": "code",
   "execution_count": 47,
   "metadata": {},
   "outputs": [],
   "source": [
    "# submission_04 upload to Kaggle: \n",
    "# RMSE (Public score based on only 30% of the test data): 29372.39816\n",
    "# Final score (based on remaining 70% of the test data): ?"
   ]
  }
 ],
 "metadata": {
  "kernelspec": {
   "display_name": "Python 3",
   "language": "python",
   "name": "python3"
  },
  "language_info": {
   "codemirror_mode": {
    "name": "ipython",
    "version": 3
   },
   "file_extension": ".py",
   "mimetype": "text/x-python",
   "name": "python",
   "nbconvert_exporter": "python",
   "pygments_lexer": "ipython3",
   "version": "3.6.6"
  }
 },
 "nbformat": 4,
 "nbformat_minor": 2
}
